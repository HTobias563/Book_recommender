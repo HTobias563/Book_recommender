{
 "cells": [
  {
   "cell_type": "code",
   "execution_count": 1,
   "metadata": {},
   "outputs": [],
   "source": [
    "import json\n",
    "import numpy as np\n",
    "import pandas as pd\n",
    "import os"
   ]
  },
  {
   "cell_type": "code",
   "execution_count": 36,
   "metadata": {},
   "outputs": [
    {
     "name": "stdout",
     "output_type": "stream",
     "text": [
      "Die letzten 10.000 vollständigen Einträge wurden in 'data/test_split_books.json' gespeichert.\n"
     ]
    }
   ],
   "source": [
    "import json\n",
    "\n",
    "# Pfad zur Eingangs-JSON-Datei\n",
    "input_file_path = 'data/300k_books Kopie.json'\n",
    "# Pfad zur Ausgabedatei\n",
    "output_file_path = 'data/test_split_books.json'\n",
    "\n",
    "# Funktion zum Überprüfen, ob ein Eintrag vollständig ist\n",
    "def is_entry_complete(entry):\n",
    "    required_fields = ['isbn', 'text_reviews_count', 'country_code', 'language_code', 'average_rating', 'similar_books', 'description', 'format', 'link', 'authors', 'publisher', 'num_pages', 'publication_year', 'book_id', 'ratings_count', 'title']\n",
    "    return all(field in entry and entry[field] not in (None, \"\", []) for field in required_fields)\n",
    "\n",
    "# Liste zum Speichern der vollständigen Einträge\n",
    "complete_entries = []\n",
    "\n",
    "# Lesen der JSON-Datei\n",
    "with open(input_file_path, 'r') as file:\n",
    "    for line in file:\n",
    "        entry = json.loads(line.strip())\n",
    "        if is_entry_complete(entry):\n",
    "            complete_entries.append(entry)\n",
    "\n",
    "# Nur die letzten 10.000 vollständigen Einträge speichern\n",
    "last_10000_entries = complete_entries[-25000:]\n",
    "\n",
    "# Schreiben der letzten 10.000 vollständigen Einträge in die neue JSON-Datei\n",
    "with open(output_file_path, 'w') as output_file:\n",
    "    for entry in last_10000_entries:\n",
    "        json.dump(entry, output_file)\n",
    "        output_file.write('\\n')\n",
    "\n",
    "print(f\"Die letzten 10.000 vollständigen Einträge wurden in '{output_file_path}' gespeichert.\")\n"
   ]
  },
  {
   "cell_type": "code",
   "execution_count": 37,
   "metadata": {},
   "outputs": [
    {
     "name": "stdout",
     "output_type": "stream",
     "text": [
      "<class 'list'>\n",
      "[{'isbn': '1556438311', 'text_reviews_count': '8', 'series': [], 'country_code': 'US', 'language_code': 'en-US', 'popular_shelves': [{'count': '637', 'name': 'to-read'}, {'count': '27', 'name': 'currently-reading'}, {'count': '7', 'name': 'non-fiction'}, {'count': '6', 'name': 'spirituality'}, {'count': '6', 'name': 'occult'}, {'count': '5', 'name': 'fiction'}, {'count': '5', 'name': 'metaphysics'}, {'count': '5', 'name': 'philosophy'}, {'count': '4', 'name': 'favorites'}, {'count': '4', 'name': 'default'}, {'count': '4', 'name': 'science'}, {'count': '4', 'name': 'nonfiction'}, {'count': '4', 'name': 'esoterica'}, {'count': '4', 'name': 'spiritual'}, {'count': '4', 'name': 'metaphysical'}, {'count': '3', 'name': 'history'}, {'count': '3', 'name': 'books-i-own'}, {'count': '3', 'name': 'new-age'}, {'count': '2', 'name': 'tool'}, {'count': '2', 'name': 'trippy'}, {'count': '2', 'name': 'mysticism'}, {'count': '2', 'name': 'mythology'}, {'count': '2', 'name': 'inspirational'}, {'count': '2', 'name': 'to-read-own'}, {'count': '2', 'name': 'religion'}, {'count': '2', 'name': 'alternative'}, {'count': '1', 'name': 'oops'}, {'count': '1', 'name': 'science-math'}, {'count': '1', 'name': 'universe-beyond'}, {'count': '1', 'name': 'parausual'}, {'count': '1', 'name': 'conspiratorial'}, {'count': '1', 'name': 'concerning-aliens'}, {'count': '1', 'name': 'archaelology-anthropology-etc'}, {'count': '1', 'name': 'aaaaaaaaa'}, {'count': '1', 'name': 'sometime'}, {'count': '1', 'name': 'hard-copy'}, {'count': '1', 'name': '_try_to_get_this_book'}, {'count': '1', 'name': 'mjk-recs'}, {'count': '1', 'name': 'books-i-want'}, {'count': '1', 'name': '2017-bookssss'}, {'count': '1', 'name': 'might-could-read'}, {'count': '1', 'name': 'summer17'}, {'count': '1', 'name': 'space'}, {'count': '1', 'name': 'psychology-philosophy'}, {'count': '1', 'name': 'extraterrestrial'}, {'count': '1', 'name': 'physically-own'}, {'count': '1', 'name': 'kindle-shelf'}, {'count': '1', 'name': 'useful-others'}, {'count': '1', 'name': 'magical-favs'}, {'count': '1', 'name': 'sci-fi-fantasy-mythology'}, {'count': '1', 'name': 'philosophy-theory'}, {'count': '1', 'name': 'before-goodreads'}, {'count': '1', 'name': 'sacred-geometry'}, {'count': '1', 'name': 'mystery'}, {'count': '1', 'name': 'awakening'}, {'count': '1', 'name': 'tbr-2016'}, {'count': '1', 'name': 'eric'}, {'count': '1', 'name': 'have'}, {'count': '1', 'name': 'bailed'}, {'count': '1', 'name': 'to-read-spiritual-work'}, {'count': '1', 'name': 'non-fiction-to-read'}, {'count': '1', 'name': 'aliens'}, {'count': '1', 'name': '2016-to-read'}, {'count': '1', 'name': 'myth-occult-religion'}, {'count': '1', 'name': '24-books-for-2016'}, {'count': '1', 'name': 'fiction-science-fiction-quirky'}, {'count': '1', 'name': 'tool-reading'}, {'count': '1', 'name': 'ufology'}, {'count': '1', 'name': 'bob-frissell'}, {'count': '1', 'name': 'awful-reads'}, {'count': '1', 'name': 'utter-garbage'}, {'count': '1', 'name': 'path-books'}, {'count': '1', 'name': 'on-the-kindle'}, {'count': '1', 'name': 'owned'}, {'count': '1', 'name': 'alt-science'}, {'count': '1', 'name': 'ufo'}, {'count': '1', 'name': 'sci-fi'}, {'count': '1', 'name': 'not-sure'}, {'count': '1', 'name': 'done'}, {'count': '1', 'name': 'metaphysical-spiritual'}, {'count': '1', 'name': 'have-book'}, {'count': '1', 'name': 'priority-must-reads'}, {'count': '1', 'name': 'sacred-knowledge'}, {'count': '1', 'name': 'counter-culture'}, {'count': '1', 'name': 'self-disvovery'}, {'count': '1', 'name': 'to-read-philosophy'}, {'count': '1', 'name': 'tools-reading-list'}, {'count': '1', 'name': 'non-fiction-owned'}, {'count': '1', 'name': 'x-files'}, {'count': '1', 'name': 'books-we-own'}, {'count': '1', 'name': 'section-spirituality'}, {'count': '1', 'name': 'kiv-need-more-research'}, {'count': '1', 'name': 'self-improvement'}, {'count': '1', 'name': 'e-nen-qit-a-ideshni'}, {'count': '1', 'name': 'metaphysics-paranorm'}, {'count': '1', 'name': 'own-but-unread'}, {'count': '1', 'name': 'read-did-not-keep'}, {'count': '1', 'name': 'i-own-this-book'}, {'count': '1', 'name': 'to-read-paranormal'}, {'count': '1', 'name': 'to-read-conspiracy'}], 'asin': '', 'is_ebook': 'false', 'average_rating': '3.82', 'kindle_asin': 'B003QMLHYW', 'similar_books': ['112809', '809058', '343009', '603917', '43851', '729729', '389085', '16041853', '17281718', '661283', '550154', '221299', '1836941'], 'description': \"Nothing in This Book Is True, But It's Exactly How Things Are is an account of humankind's function within the grand celestial battle between internal and external knowledge. Author Bob Frissell gives a compelling account of our planetary ascent into higher consciousness, presenting a big-screen view of the Earth through the experience of the Ascended Masters, Thoth, Babaji, and Drunvalo Melchizedek.\\nPulling in all manner of conspiracy theories from the Secret Government to the Philadelphia Experiment, Frissell proposes both a core transdimensional shift based on the Mayan calendar and a personal Rapture mediated through the connected, affirmed breaths of rebirthing that his teacher Melchizedek used to travel from the other side of the universe to here--breathing your own spacecraft (merkaba) out of and around your aura in order to travel through the astral realms.\\nThe 15th anniversary edition of this cult classic is revised and expanded with new illustrations and 50 pages of important new information on the Lucifer Rebellion, the solar storm, and the final three breaths of the merkaba meditation.\\nFrom the Trade Paperback edition.\", 'format': 'Paperback', 'link': 'https://www.goodreads.com/book/show/6086861-nothing-in-this-book-is-true-but-it-s-exactly-how-things-are', 'authors': [{'author_id': '178299', 'role': ''}], 'publisher': 'Frog Books', 'num_pages': '336', 'publication_day': '29', 'isbn13': '9781556438318', 'publication_month': '9', 'edition_information': 'Revised &amp; Expanded 15th Anniversary Edition', 'publication_year': '2009', 'url': 'https://www.goodreads.com/book/show/6086861-nothing-in-this-book-is-true-but-it-s-exactly-how-things-are', 'image_url': 'https://images.gr-assets.com/books/1320524664m/6086861.jpg', 'book_id': '6086861', 'ratings_count': '66', 'work_id': '585119', 'title': \"Nothing in This Book Is True, But It's Exactly How Things Are: The Esoteric Meaning of the Monuments of Mars\", 'title_without_series': \"Nothing in This Book Is True, But It's Exactly How Things Are: The Esoteric Meaning of the Monuments of Mars\"}, {'isbn': '9722024493', 'text_reviews_count': '9', 'series': [], 'country_code': 'US', 'language_code': 'por', 'popular_shelves': [{'count': '53095', 'name': 'to-read'}, {'count': '3168', 'name': 'favorites'}, {'count': '980', 'name': 'fiction'}, {'count': '834', 'name': 'currently-reading'}, {'count': '515', 'name': 'young-adult'}, {'count': '366', 'name': 'favourites'}, {'count': '333', 'name': 'books-i-own'}, {'count': '291', 'name': 'contempor\\u200bary'}, {'count': '266', 'name': 'to-buy'}, {'count': '261', 'name': 'owned'}, {'count': '249', 'name': 'contemporary-fiction'}, {'count': '239', 'name': 'literary-fiction'}, {'count': '236', 'name': 'coming-of-age'}, {'count': '205', 'name': 'novels'}, {'count': '197', 'name': 'literature'}, {'count': '196', 'name': 'classics'}, {'count': '192', 'name': 'owned-books'}, {'count': '181', 'name': 'adult'}, {'count': '176', 'name': 'american'}, {'count': '174', 'name': 'rory-gilmore-reading-challenge'}, {'count': '174', 'name': 'adult-fiction'}, {'count': '158', 'name': 'suicide'}, {'count': '149', 'name': 'book-club'}, {'count': '144', 'name': 'library'}, {'count': '130', 'name': 'mental-illness'}, {'count': '127', 'name': '1001-books-to-read-before-you-die'}, {'count': '127', 'name': 'wish-list'}, {'count': '125', 'name': 'kindle'}, {'count': '120', 'name': 'ya'}, {'count': '113', 'name': 'drama'}, {'count': '103', 'name': 'mental-health'}, {'count': '101', 'name': 'read-in-2014'}, {'count': '99', 'name': '20th-century'}, {'count': '93', 'name': 'realistic-fiction'}, {'count': '90', 'name': 'rory-gilmore-challenge'}, {'count': '87', 'name': 'i-own'}, {'count': '85', 'name': 'read-in-2015'}, {'count': '83', 'name': 'literary'}, {'count': '79', 'name': 'rory-gilmore'}, {'count': '78', 'name': 'death'}, {'count': '76', 'name': 'family'}, {'count': '73', 'name': '1001-books'}, {'count': '73', 'name': 'ebook'}, {'count': '73', 'name': 'favorite-books'}, {'count': '73', 'name': 'usa'}, {'count': '72', 'name': 'read-in-2013'}, {'count': '71', 'name': 'english'}, {'count': '66', 'name': 'my-books'}, {'count': '65', 'name': 'read-in-2016'}, {'count': '64', 'name': 'all-time-favorites'}, {'count': '64', 'name': 'audiobook'}, {'count': '63', 'name': 'default'}, {'count': '63', 'name': 'book-to-movie'}, {'count': '62', 'name': 'classic'}, {'count': '62', 'name': 'psychology'}, {'count': '62', 'name': 'dark'}, {'count': '61', 'name': 'historical-fiction'}, {'count': '60', 'name': 'rory-gilmore-reading-list'}, {'count': '59', 'name': 'abandoned'}, {'count': '59', 'name': 'audiobooks'}, {'count': '57', 'name': 'modern-classics'}, {'count': '57', 'name': 're-read'}, {'count': '55', 'name': 'sisters'}, {'count': '53', 'name': 'american-literature'}, {'count': '53', 'name': 'modern-fiction'}, {'count': '52', 'name': 'ebooks'}, {'count': '52', 'name': 'to-read-fiction'}, {'count': '52', 'name': '1001-books-you-must-read-before-you'}, {'count': '51', 'name': 'movies'}, {'count': '50', 'name': 'my-library'}, {'count': '49', 'name': 'favorite'}, {'count': '48', 'name': 'read-in-2012'}, {'count': '48', 'name': '1990s'}, {'count': '48', 'name': 'audio'}, {'count': '47', 'name': '1001-books-to-read'}, {'count': '46', 'name': 'read-in-2017'}, {'count': '46', 'name': 'gilmore-girls'}, {'count': '46', 'name': 'unfinished'}, {'count': '46', 'name': 'books'}, {'count': '46', 'name': 'movie'}, {'count': '45', 'name': 'american-lit'}, {'count': '45', 'name': 'own-it'}, {'count': '44', 'name': 'need-to-buy'}, {'count': '43', 'name': 'romance'}, {'count': '41', 'name': 'dnf'}, {'count': '41', 'name': 'stand-alone'}, {'count': '41', 'name': 'high-school'}, {'count': '40', 'name': 'did-not-finish'}, {'count': '39', 'name': 'tbr'}, {'count': '39', 'name': 'e-books'}, {'count': '39', 'name': 'borrowed'}, {'count': '38', 'name': '1001'}, {'count': '38', 'name': 'read-in-2011'}, {'count': '38', 'name': 'e-book'}, {'count': '38', 'name': '5-stars'}, {'count': '37', 'name': 'shelfari-favorites'}, {'count': '37', 'name': 'on-my-shelf'}, {'count': '37', 'name': 'read-in-2010'}, {'count': '37', 'name': 'want-to-read'}, {'count': '36', 'name': 'to-re-read'}], 'asin': '', 'is_ebook': 'false', 'average_rating': '3.83', 'kindle_asin': '', 'similar_books': ['15794592', '366497', '11628', '283786', '14565', '29488', '227603', '41666', '581811', '2139', '15374', '71047', '6501050', '12187', '28756', '488253', '428'], 'description': 'Num bairro residencial de Grosse-Pointe (Michigan), cinco irmas adolescentes suicidam-se no espaco de um ano. Cecilia, a mais nova, e a primeira. As outras imita-la-ao depois. Estes suicidios marcam para sempre os jovens rapazes da vizinhanca que viveram e sofreram com elas... a distancia. Vinte anos mais tarde eles tentam reconstituir os acontecimentos, presos ainda na fascinacao e obsessao que as misteriosas irmas lhe provocaram: Therese a intelectual, Mary a coquete, Bonnie a asceta, Lux a libertina e a palida e mistica Cecilia.', 'format': 'Paperback', 'link': 'https://www.goodreads.com/book/show/6333823-as-virgens-suicidas', 'authors': [{'author_id': '1467', 'role': ''}, {'author_id': '8317394', 'role': 'Translator'}, {'author_id': '4295477', 'role': 'Translator'}], 'publisher': 'Dom Quixote', 'num_pages': '245', 'publication_day': '', 'isbn13': '9789722024495', 'publication_month': '', 'edition_information': '', 'publication_year': '2003', 'url': 'https://www.goodreads.com/book/show/6333823-as-virgens-suicidas', 'image_url': 'https://s.gr-assets.com/assets/nophoto/book/111x148-bcc042a9c91a29c1d680899eff700a03.png', 'book_id': '6333823', 'ratings_count': '52', 'work_id': '812415', 'title': 'As Virgens Suicidas', 'title_without_series': 'As Virgens Suicidas'}]\n"
     ]
    }
   ],
   "source": [
    "#jason datei impotieren und schauen ob alles passt \n",
    "\n",
    "data = []  # Initialize an empty list to store the JSON objects\n",
    "with open('data/test_split_books.json', 'r', encoding='utf-8') as file:\n",
    "    for line in file:\n",
    "        # Append each JSON object to the list\n",
    "        data.append(json.loads(line.strip()))  # Use strip() to remove any leading/trailing whitespace\n",
    "\n",
    "# Now, data should be a list of dictionaries\n",
    "print(type(data))  # Should be <class 'list'>\n",
    "print(data[:2])    # Should display the first two book dictionaries\n"
   ]
  },
  {
   "cell_type": "code",
   "execution_count": 38,
   "metadata": {},
   "outputs": [
    {
     "name": "stdout",
     "output_type": "stream",
     "text": [
      "Total books processed: 25000\n",
      "Filtered books: 10938\n"
     ]
    }
   ],
   "source": [
    "import json\n",
    "import numpy as np\n",
    "import os\n",
    "\n",
    "# Angenommen, `data` ist deine große JSON-Datei, die bereits in eine Liste von Dictionaries geladen wurde.\n",
    "\n",
    "# Step 1: Create a set of all unique book IDs in the dataset\n",
    "all_book_ids = {buch['book_id'] for buch in data}\n",
    "\n",
    "# Step 2: Create a mapping of book IDs to their indices\n",
    "book_id_to_index = {book_id: index for index, book_id in enumerate(all_book_ids)}\n",
    "\n",
    "# Step 3: Prepare a dictionary to hold the filtered books and multi-label targets\n",
    "filtered_books_dict = {}\n",
    "multi_label_targets = []\n",
    "\n",
    "# Prepare a list to track missing similar books\n",
    "missing_similar_books = []\n",
    "\n",
    "# Process each book in the dataset\n",
    "for buch in data:\n",
    "    # Sicherstellen, dass 'similar_books' vorhanden ist und eine Liste ist\n",
    "    if 'similar_books' not in buch or not isinstance(buch['similar_books'], list):\n",
    "        continue\n",
    "    \n",
    "    # Filter similar_books to retain only those that exist in all_book_ids\n",
    "    valid_similar_books = [sim_book for sim_book in buch['similar_books'] if sim_book in all_book_ids]\n",
    "\n",
    "    # Nur das Buch zu filtered_books_dict hinzufügen, wenn mindestens ein gültiger similar_book vorhanden ist\n",
    "    if valid_similar_books:\n",
    "        filtered_books_dict[buch['book_id']] = {\n",
    "            'title': buch.get('title'),\n",
    "            'authors': [author['author_id'] for author in buch.get('authors', [])],\n",
    "            'description': buch.get('description'),\n",
    "            'similar_books': valid_similar_books  # Behalte nur gültige similar book IDs\n",
    "        }\n",
    "\n",
    "        # Erstelle einen multi-hot kodierten Vektor für die gültigen similar_books\n",
    "        target_vector = np.zeros(len(all_book_ids), dtype=int)\n",
    "        for similar_book_id in valid_similar_books:\n",
    "            target_vector[book_id_to_index[similar_book_id]] = 1\n",
    "        multi_label_targets.append(target_vector)\n",
    "\n",
    "# Ensure the directory exists\n",
    "output_dir = 'data'\n",
    "os.makedirs(output_dir, exist_ok=True)\n",
    "\n",
    "# Save the filtered books to a JSON file\n",
    "output_file_path = os.path.join(output_dir, 'filtered_books_test.json')\n",
    "with open(output_file_path, 'w', encoding='utf-8') as file:\n",
    "    json.dump(filtered_books_dict, file, ensure_ascii=False, indent=4)\n",
    "\n",
    "# Output statistics\n",
    "print(f\"Total books processed: {len(data)}\")\n",
    "print(f\"Filtered books: {len(filtered_books_dict)}\")\n"
   ]
  },
  {
   "cell_type": "code",
   "execution_count": 39,
   "metadata": {},
   "outputs": [
    {
     "name": "stdout",
     "output_type": "stream",
     "text": [
      "Total rows saved: 8053\n"
     ]
    }
   ],
   "source": [
    "import json\n",
    "import pandas as pd\n",
    "\n",
    "# Open the JSON file and load the data\n",
    "with open('data/filtered_books_test.json', 'r', encoding='utf-8') as file:\n",
    "    data = json.load(file)\n",
    "\n",
    "rows = []\n",
    "\n",
    "# Step 1: Create a set of all unique book IDs in the dataset\n",
    "all_book_ids = set(data.keys())\n",
    "\n",
    "for book_id, book_info in data.items():\n",
    "    # Handle multiple similar books\n",
    "    for similar_book in book_info.get('similar_books', []):\n",
    "        # Only create a new row if the similar book ID exists in all_book_ids\n",
    "        if similar_book in all_book_ids:\n",
    "            rows.append({\n",
    "                'book_id': book_id,\n",
    "                'title': book_info['title'],\n",
    "                'authors': ', '.join(book_info.get('authors', [])),  # Join authors if there are multiple\n",
    "                'description': book_info['description'],\n",
    "                'similar_book': similar_book\n",
    "            })\n",
    "\n",
    "# Create a DataFrame from the rows\n",
    "df = pd.DataFrame(rows)\n",
    "\n",
    "# Save to CSV\n",
    "df.to_csv('data/books_test.csv', index=False)\n",
    "\n",
    "# Output the number of rows saved\n",
    "print(f\"Total rows saved: {len(df)}\")\n"
   ]
  },
  {
   "cell_type": "code",
   "execution_count": 40,
   "metadata": {},
   "outputs": [
    {
     "data": {
      "text/plain": [
       "<bound method DataFrame.info of        book_id                                              title  \\\n",
       "0     13500133            Legend of the Phoenix: Rise of Crescent   \n",
       "1     18869972                            The House on the Strand   \n",
       "2     18074420                                           Mes amis   \n",
       "3      3556999                                   Black Elk Speaks   \n",
       "4      2767201                                         Auto da fé   \n",
       "...        ...                                                ...   \n",
       "8048  18045695  Emma, Mr. Knightley, and Chili-Slaw Dogs (Jane...   \n",
       "8049  28930789                             Den her bog elsker dig   \n",
       "8050   9286210                                            Spinner   \n",
       "8051    836042                                               1984   \n",
       "8052    836042                                               1984   \n",
       "\n",
       "                     authors  \\\n",
       "0                    3954554   \n",
       "1                    2001717   \n",
       "2                     667170   \n",
       "3                      20072   \n",
       "4     6517, 5817097, 1871665   \n",
       "...                      ...   \n",
       "8048                 6888370   \n",
       "8049                 6872957   \n",
       "8050                 1893900   \n",
       "8051           3706, 4464400   \n",
       "8052           3706, 4464400   \n",
       "\n",
       "                                            description  similar_book  \n",
       "0     For thousands of years, a legendary clan known...      13512962  \n",
       "1     Dick Young is lent a house in Cornwall by his ...       1293687  \n",
       "2     Le romancier donne a voir la complexite des se...        545437  \n",
       "3     The famous life story of the Lakota healer and...        844522  \n",
       "4     Auto da fe(1935), primo libro di Elias Canetti...        411496  \n",
       "...                                                 ...           ...  \n",
       "8048  Caroline Ashley is a journalist on the rise at...      25426363  \n",
       "8049  Her er svaret pa alle livets sporgsmal.\\nPEWDI...      22609614  \n",
       "8050  Verlagstext\\n\"Ich habe keine Angst vor der Zuk...      15990986  \n",
       "8051  '1984' nao e apenas mais um livro sobre politi...         46114  \n",
       "8052  '1984' nao e apenas mais um livro sobre politi...        480204  \n",
       "\n",
       "[8053 rows x 5 columns]>"
      ]
     },
     "execution_count": 40,
     "metadata": {},
     "output_type": "execute_result"
    }
   ],
   "source": [
    "df = pd.read_csv('data/books_test.csv')\n",
    "df.info\n"
   ]
  },
  {
   "cell_type": "code",
   "execution_count": 51,
   "metadata": {},
   "outputs": [
    {
     "name": "stdout",
     "output_type": "stream",
     "text": [
      "Alle ähnlichen Buch-IDs sind in den Buch-IDs vorhanden: True\n",
      "Anzahl der fehlenden Bücher: 0\n",
      "Fehlende Buch-IDs: set()\n"
     ]
    }
   ],
   "source": [
    "book_ids = set(df['book_id'])\n",
    "similar_book_ids = set(df['similar_book'])\n",
    "\n",
    "# Step 2: Find missing similar book IDs\n",
    "missing_books = similar_book_ids - book_ids\n",
    "missing_count = len(missing_books)\n",
    "\n",
    "# Step 3: Check if every similar book ID is present in the book ID set\n",
    "all_similar_in_books = similar_book_ids.issubset(book_ids)\n",
    "\n",
    "print(\"Alle ähnlichen Buch-IDs sind in den Buch-IDs vorhanden:\", all_similar_in_books)\n",
    "print(\"Anzahl der fehlenden Bücher:\", missing_count)\n",
    "print(\"Fehlende Buch-IDs:\", missing_books)"
   ]
  },
  {
   "cell_type": "code",
   "execution_count": null,
   "metadata": {},
   "outputs": [],
   "source": []
  },
  {
   "cell_type": "code",
   "execution_count": 52,
   "metadata": {},
   "outputs": [
    {
     "name": "stdout",
     "output_type": "stream",
     "text": [
      "Anzahl der verbleibenden Zeilen nach dem Droppen: 6060\n"
     ]
    }
   ],
   "source": [
    "# Step 1: Erstelle eine Menge aller vorhandenen Buch-IDs und ähnlichen Buch-IDs\n",
    "book_ids = set(df['book_id'])\n",
    "similar_book_ids = set(df['similar_book'])\n",
    "\n",
    "# Step 2: Finde die fehlenden ähnlichen Buch-IDs\n",
    "missing_books = similar_book_ids - book_ids\n",
    "\n",
    "# Step 3: Droppen der Zeilen, bei denen die similar_book-ID in missing_books enthalten ist\n",
    "df = df[~df['similar_book'].isin(missing_books)]\n",
    "\n",
    "# Ausgabe der Anzahl der verbleibenden Zeilen\n",
    "print(f\"Anzahl der verbleibenden Zeilen nach dem Droppen: {len(df)}\")\n",
    "\n",
    "# Optional: Speichern der gefilterten Daten in eine neue CSV-Datei\n",
    "df.to_csv('data/filtered_books_final_test.csv', index=False)\n"
   ]
  },
  {
   "cell_type": "markdown",
   "metadata": {},
   "source": [
    "# Check NAs\n"
   ]
  },
  {
   "cell_type": "code",
   "execution_count": 53,
   "metadata": {},
   "outputs": [
    {
     "name": "stdout",
     "output_type": "stream",
     "text": [
      "0\n"
     ]
    }
   ],
   "source": [
    "missing_description_count = df['description'].isnull().sum()\n",
    "print(missing_description_count)\n"
   ]
  },
  {
   "cell_type": "code",
   "execution_count": 54,
   "metadata": {},
   "outputs": [
    {
     "name": "stdout",
     "output_type": "stream",
     "text": [
      "Gesamtanzahl der fehlenden Werte: 0\n"
     ]
    }
   ],
   "source": [
    "total_missing = df.isnull().sum().sum()\n",
    "print(f\"Gesamtanzahl der fehlenden Werte: {total_missing}\")\n"
   ]
  },
  {
   "cell_type": "code",
   "execution_count": 55,
   "metadata": {},
   "outputs": [
    {
     "name": "stdout",
     "output_type": "stream",
     "text": [
      "book_id         0\n",
      "title           0\n",
      "authors         0\n",
      "description     0\n",
      "similar_book    0\n",
      "dtype: int64\n"
     ]
    }
   ],
   "source": [
    "missing_per_column = df.isnull().sum()\n",
    "print(missing_per_column)\n"
   ]
  },
  {
   "cell_type": "markdown",
   "metadata": {},
   "source": [
    "# types checken "
   ]
  },
  {
   "cell_type": "code",
   "execution_count": 56,
   "metadata": {},
   "outputs": [
    {
     "data": {
      "text/plain": [
       "book_id          int64\n",
       "title           object\n",
       "authors         object\n",
       "description     object\n",
       "similar_book     int64\n",
       "dtype: object"
      ]
     },
     "execution_count": 56,
     "metadata": {},
     "output_type": "execute_result"
    }
   ],
   "source": [
    "df.dtypes\n"
   ]
  },
  {
   "cell_type": "markdown",
   "metadata": {},
   "source": [
    "# Stop words "
   ]
  },
  {
   "cell_type": "code",
   "execution_count": 57,
   "metadata": {},
   "outputs": [],
   "source": [
    "df = pd.read_csv('data/filtered_books_final_test.csv')\n"
   ]
  },
  {
   "cell_type": "code",
   "execution_count": 58,
   "metadata": {},
   "outputs": [],
   "source": [
    "import spacy\n",
    "import pandas as pd\n",
    "\n",
    "# Lade das englische Modell\n",
    "nlp = spacy.load('en_core_web_sm')\n",
    "\n",
    "# Annahme: df ist dein DataFrame\n",
    "# Entferne Stoppwörter aus der 'description'-Spalte\n",
    "df['description'] = df['description'].apply(lambda x: ' '.join([token.text for token in nlp(x) if not token.is_stop]))\n",
    "\n",
    "# Entferne Stoppwörter aus der 'title'-Spalte\n",
    "df['title'] = df['title'].apply(lambda x: ' '.join([token.text for token in nlp(x) if not token.is_stop]))\n",
    "\n",
    "# Speichere die bearbeiteten Daten in einer neuen CSV-Datei\n"
   ]
  },
  {
   "cell_type": "code",
   "execution_count": 59,
   "metadata": {},
   "outputs": [
    {
     "name": "stdout",
     "output_type": "stream",
     "text": [
      "title\n",
      "<class 'str'>    6060\n",
      "Name: count, dtype: int64\n",
      "Empty DataFrame\n",
      "Columns: [book_id, title, authors, description, similar_book]\n",
      "Index: []\n",
      "Number of empty strings in title: 25\n"
     ]
    }
   ],
   "source": [
    "print(df['title'].apply(type).value_counts())\n",
    "\n",
    "\n",
    "non_string_entries = df[~df['title'].apply(lambda x: isinstance(x, str))]\n",
    "print(non_string_entries)\n",
    "\n",
    "df['title'] = df['title'].astype(str)\n",
    "\n",
    "empty_count = (df['title'] == '').sum()\n",
    "print(f'Number of empty strings in title: {empty_count}')\n",
    "\n",
    "df['title'] = df['title'].apply(lambda x: ' '.join([token.text for token in nlp(x) if not token.is_stop]) if isinstance(x, str) else '')\n"
   ]
  },
  {
   "cell_type": "code",
   "execution_count": 60,
   "metadata": {},
   "outputs": [
    {
     "name": "stdout",
     "output_type": "stream",
     "text": [
      "Number of empty strings in title after removal: 0\n"
     ]
    }
   ],
   "source": [
    "# Remove rows where 'title' is an empty string\n",
    "df = df[df['title'] != '']\n",
    "\n",
    "# Check the number of empty strings in 'title' after removal\n",
    "num_empty_titles = df['title'].eq('').sum()\n",
    "print(f'Number of empty strings in title after removal: {num_empty_titles}')\n",
    "\n"
   ]
  },
  {
   "cell_type": "code",
   "execution_count": 63,
   "metadata": {},
   "outputs": [
    {
     "name": "stdout",
     "output_type": "stream",
     "text": [
      "4703\n"
     ]
    }
   ],
   "source": [
    "unique_book_ids = df['book_id'].nunique()  # Get the number of unique book IDs\n",
    "print(unique_book_ids)  # Print the count of unique book IDs\n"
   ]
  },
  {
   "cell_type": "code",
   "execution_count": 62,
   "metadata": {},
   "outputs": [],
   "source": [
    "df.to_csv('data/filtered_books_final_test.csv', index=False)\n"
   ]
  }
 ],
 "metadata": {
  "kernelspec": {
   "display_name": "Python 3",
   "language": "python",
   "name": "python3"
  },
  "language_info": {
   "codemirror_mode": {
    "name": "ipython",
    "version": 3
   },
   "file_extension": ".py",
   "mimetype": "text/x-python",
   "name": "python",
   "nbconvert_exporter": "python",
   "pygments_lexer": "ipython3",
   "version": "3.12.1"
  }
 },
 "nbformat": 4,
 "nbformat_minor": 2
}
