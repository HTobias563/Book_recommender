{
 "cells": [
  {
   "cell_type": "code",
   "execution_count": 35,
   "metadata": {},
   "outputs": [],
   "source": [
    "import json\n",
    "import numpy as np\n",
    "import pandas as pd\n",
    "import os"
   ]
  },
  {
   "cell_type": "code",
   "execution_count": 44,
   "metadata": {},
   "outputs": [
    {
     "data": {
      "text/plain": [
       "<bound method DataFrame.info of         book_id                   title                 authors  \\\n",
       "0       2008910  Buenos días , tristeza                 1357577   \n",
       "1      18628480                  Stoner  51229, 110982, 5768434   \n",
       "2      18628480                  Stoner  51229, 110982, 5768434   \n",
       "3      25317381                   Smoke                 3111153   \n",
       "4      25317381                   Smoke                 3111153   \n",
       "...         ...                     ...                     ...   \n",
       "18963   9286210                 Spinner                 1893900   \n",
       "18964   9286210                 Spinner                 1893900   \n",
       "18965    836042                    1984           3706, 4464400   \n",
       "18966    344972      Life Times Chaucer                  481146   \n",
       "18967  17779550          Train Istanbul        2882488, 7213767   \n",
       "\n",
       "                                             description  similar_book  \n",
       "0      En una hermosa mansion orillas del Mediterrane...        819956  \n",
       "1      Stoner e il racconto della vita di un uomo tra...       3979476  \n",
       "2      Stoner e il racconto della vita di un uomo tra...       8320645  \n",
       "3      Amazon Best Book Year \\n Goodreads Best Book M...      23383181  \n",
       "4      Amazon Best Book Year \\n Goodreads Best Book M...      15706786  \n",
       "...                                                  ...           ...  \n",
       "18963  Verlagstext \\n \" Ich habe keine Angst vor der ...      15990986  \n",
       "18964  Verlagstext \\n \" Ich habe keine Angst vor der ...      16174656  \n",
       "18965  ' 1984 ' nao e apenas mais um livro sobre poli...         46114  \n",
       "18966  facts Geoffrey Chaucer life plentiful . connec...        134026  \n",
       "18967  International bestseller Turkey beloved author...       1285217  \n",
       "\n",
       "[18968 rows x 5 columns]>"
      ]
     },
     "execution_count": 44,
     "metadata": {},
     "output_type": "execute_result"
    }
   ],
   "source": [
    "df = pd.read_csv('data/filtered_books_fina1.csv')\n",
    "df.info\n"
   ]
  },
  {
   "cell_type": "code",
   "execution_count": 52,
   "metadata": {},
   "outputs": [],
   "source": [
    "df_unique = df.drop_duplicates(subset='book_id', keep='first')\n"
   ]
  },
  {
   "cell_type": "code",
   "execution_count": 53,
   "metadata": {},
   "outputs": [],
   "source": [
    "df_unique.to_csv('data/books_tfidf.csv')"
   ]
  }
 ],
 "metadata": {
  "kernelspec": {
   "display_name": "Python 3",
   "language": "python",
   "name": "python3"
  },
  "language_info": {
   "codemirror_mode": {
    "name": "ipython",
    "version": 3
   },
   "file_extension": ".py",
   "mimetype": "text/x-python",
   "name": "python",
   "nbconvert_exporter": "python",
   "pygments_lexer": "ipython3",
   "version": "3.12.1"
  }
 },
 "nbformat": 4,
 "nbformat_minor": 2
}
